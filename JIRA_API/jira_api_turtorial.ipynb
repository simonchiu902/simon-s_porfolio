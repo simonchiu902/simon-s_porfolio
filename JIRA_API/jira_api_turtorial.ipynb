{
 "cells": [
  {
   "cell_type": "markdown",
   "id": "6d5074e3-e727-40d4-baae-a7af3e20732c",
   "metadata": {},
   "source": [
    "### Introduction\n",
    "Given the online jira api documentations are complex and some of them are even over-dated, this document gives the newest version of how to use jira api.\n",
    "\n",
    "Updated Date: 26/09/2023"
   ]
  },
  {
   "cell_type": "markdown",
   "id": "3d45bb19-c20b-43bc-a9f5-a7b6e504bdf0",
   "metadata": {},
   "source": [
    "### 1. Get issues from certain project\n",
    "The first link is a video teaching you how to write the code. Noted that the api version in this video is v2.\n",
    "\n",
    "https://www.youtube.com/watch?v=3POeV_RcKuw&list=PLI8raxzYtfGwe8f-8s8O69gBVd9JIr9dM&index=2\n",
    "\n",
    "The second link here is the jira documentation. Noted that the api version here is v3.\n",
    "\n",
    "https://developer.atlassian.com/cloud/jira/platform/rest/v3/api-group-issue-search/#api-rest-api-3-search-get\n",
    "\n",
    "Below code is a more flexible version of the combination of these two links."
   ]
  },
  {
   "cell_type": "code",
   "execution_count": null,
   "id": "ea6c0b70-eed5-4ba9-b86b-1a49287134aa",
   "metadata": {},
   "outputs": [],
   "source": [
    "import requests\n",
    "from requests.auth import HTTPBasicAuth\n",
    "import json\n",
    "\n",
    "ur_domain = \"company_name\" #replace with ur company's name. You can refer to ur jira homepage url\n",
    "url = f\"https://{ur_domain}.atlassian.net/rest/api/3/search\" #we're using jira api v3\n",
    "\n",
    "ur_email = \"xxx@bbb.com\" #replace with ur email\n",
    "api_token = 'token' #ur own token can get from https://support.atlassian.com/atlassian-account/docs/manage-api-tokens-for-your-atlassian-account/\n",
    "auth = HTTPBasicAuth(ur_email, api_token)\n",
    "\n",
    "headers = {\n",
    "  \"Accept\": \"application/json\"\n",
    "}\n",
    "\n",
    "#Replace project_name with ur project's name\n",
    "#To find the project name, key the url above to ur browser and then u will get a json type html page. Ctrl+f to search for \"project\".\n",
    "#Inside \"project\" dictionary, u may find a field called \"key\". The value of the \"key\" is ur project name.\n",
    "#It may look similar like the project name you see in the jira website but not exactly the same.\n",
    "project_name = \"project\" \n",
    "# This is a jql query to filter out specific project's issues\n",
    "query = {\n",
    "  'jql': f'project = {project_name}'\n",
    "}\n",
    "\n",
    "response = requests.request(\n",
    "   \"GET\",\n",
    "   url,\n",
    "   headers=headers,\n",
    "   params=query,\n",
    "   auth=auth\n",
    ")\n",
    "\n",
    "# parsed_json is a dict, can be used for further fields selection or filtering\n",
    "parsed_json = json.loads(response.text)\n",
    "print(type(parsed_json))\n",
    "\n",
    "# json.dumps gives a clear output formate to read.\n",
    "# below prints the information for the first issue\n",
    "print(json.dumps(parsed_json[\"issues\"][0], sort_keys=True, indent=4, separators=(\",\", \": \")))"
   ]
  },
  {
   "cell_type": "markdown",
   "id": "2ad1fd6b-db02-4534-8165-4bcac7cc8103",
   "metadata": {},
   "source": [
    "### 2. Transform jira token to Base64"
   ]
  },
  {
   "cell_type": "code",
   "execution_count": null,
   "id": "e3b379a3-c8d5-47b3-be80-b8ea207a82df",
   "metadata": {},
   "outputs": [],
   "source": [
    "import base64\n",
    "your_email = 'xxx@ihhhealthcare.com' #replace this with your own email\n",
    "original_token = 'abc' #replace this with your jira token\n",
    "combined_string = your_email+':'+original_token\n",
    "b = base64.b64encode(bytes(combined_string, 'utf-8')) # bytes\n",
    "print(b)"
   ]
  }
 ],
 "metadata": {
  "kernelspec": {
   "display_name": "Python 3 (ipykernel)",
   "language": "python",
   "name": "python3"
  },
  "language_info": {
   "codemirror_mode": {
    "name": "ipython",
    "version": 3
   },
   "file_extension": ".py",
   "mimetype": "text/x-python",
   "name": "python",
   "nbconvert_exporter": "python",
   "pygments_lexer": "ipython3",
   "version": "3.10.9"
  }
 },
 "nbformat": 4,
 "nbformat_minor": 5
}
