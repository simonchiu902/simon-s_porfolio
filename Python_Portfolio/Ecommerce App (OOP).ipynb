{
 "cells": [
  {
   "cell_type": "markdown",
   "metadata": {},
   "source": [
    "**Eazy E-commerce**\n",
    "\n",
    "This task is to design a simplified e-commerce app by implementing the following classes along with the necessary attributes and methods. "
   ]
  },
  {
   "cell_type": "markdown",
   "metadata": {},
   "source": [
    "**`Item` class**\n",
    "\n",
    "Attributes:\n",
    "\n",
    "`sku`: a string representing the Stock Keeping Unit (SKU) of the product. It is a unique id used to identify the product type <br>\n",
    "`name`: a string representing product name <br>\n",
    "`price`: a float representing selling price of product <br>"
   ]
  },
  {
   "cell_type": "markdown",
   "metadata": {},
   "source": [
    "**`Store` class**\n",
    "\n",
    "Attributes:\n",
    "\n",
    "`inventory`: a dictionary with key value pairs where key is an `item` object and the value is the corresponding quantity in stock<br>\n",
    "\n",
    "Methods:\n",
    "\n",
    "`add_to_store(item, quantity)`: adds `quantity` units of the `item` by updating the `inventory` attribute<br>\n",
    "`remove_from_store(item, quantity)`: removes `quantity` units of the `item` as long as there is sufficient stock and returns value of 0. If there is insufficient stock, return value of 1. If the `item` is not in `inventory` return value of  2<br>\n",
    "`display_inventory()`: \n",
    "displays the following information for each item in inventory: sku, name, price, quantity<br>"
   ]
  },
  {
   "cell_type": "markdown",
   "metadata": {},
   "source": [
    "**`User` class**\n",
    "\n",
    "Attributes:\n",
    "\n",
    "`username`: a string representing the user<br>\n",
    "`cc`: a string representing credit card number for user <br>\n",
    "`cart`: a dictionary of key-value pairs where key is an `item` object and value is the quantity ordered by user for the `item`<br>\n",
    "`store`: this is a reference to the store object<br>\n",
    "\n",
    "Methods:\n",
    "\n",
    "`login(store)`: upon logging in, `cart` should be set to empty and `store.display_inventory()` should be called to show all items available in the store<br>\n",
    "`add_to_cart(item, quantity)`: adds `quantity` units of `item` object to user's cart. Prompt an error if `item` is not found in store or if there is insufficient stock in store (see example below)<br>\n",
    "`remove_from_cart(item, quantity)`: removes `quantity` units of `item` from user's cart as long as quantity is no more than that in cart. Prompt an error if user wants to remove more items than found in cart or if `item` is not found in cart (see example below)<br>\n",
    "`display_cart()`: displays a list of items that user has added to the cart (see example below) <br>\n",
    "`checkout()`: computes the total amount payable by considering the quantity and price. This method prints a message (see below), returns total amount payable and set the cart to be empty<br>\n",
    "`logout()`: set cart to be empty and display a message (see below)<br>"
   ]
  },
  {
   "cell_type": "markdown",
   "metadata": {},
   "source": [
    "Example:"
   ]
  },
  {
   "cell_type": "markdown",
   "metadata": {},
   "source": [
    "We first create some `items`"
   ]
  },
  {
   "cell_type": "markdown",
   "metadata": {},
   "source": [
    "`\n",
    "bag = Item(\"sku01\", \"bag\", 80)\n",
    "laptop = Item(\"sku02\", \"laptop\", 1500)\n",
    "mug = Item(\"sku03\", \"mug\", 2)\n",
    "book = Item(\"sku04\", \"book\", 100)\n",
    "`"
   ]
  },
  {
   "cell_type": "markdown",
   "metadata": {},
   "source": [
    "We then create a `store` to consist of three items, i.e. `bag`, `laptop`, `mug`"
   ]
  },
  {
   "cell_type": "markdown",
   "metadata": {},
   "source": [
    "`inventory = [\n",
    "    (bag, 500),\n",
    "    (laptop, 20),\n",
    "    (mug, 100)\n",
    "]`"
   ]
  },
  {
   "cell_type": "markdown",
   "metadata": {},
   "source": [
    "`store = Store(inventory)`"
   ]
  },
  {
   "cell_type": "markdown",
   "metadata": {},
   "source": [
    "Next we instantiate `user01` with an associated credit card number. We also let the user login. This should display a list of items avaialble in the store. See the expected output below"
   ]
  },
  {
   "cell_type": "markdown",
   "metadata": {},
   "source": [
    "`\n",
    "user1 = User(\"user01\", \"5264-7913-7892-3804\")\n",
    "user1.login(store)\n",
    "`"
   ]
  },
  {
   "cell_type": "markdown",
   "metadata": {},
   "source": [
    "Output:"
   ]
  },
  {
   "cell_type": "markdown",
   "metadata": {},
   "source": [
    "`user01 is logged in` <br>\n",
    "`Empty cart created for user01` <br>\n",
    "`Easy E-commerce Listing` <br>\n",
    "`------------------------` <br>\n",
    "`sku:sku01\t name:bag\t price:$80\t quantity:500` <br>\n",
    "`sku:sku02\t name:laptop  price:$1500   quantity:20`<br>\n",
    "`sku:sku03\t name:mug\t price:$2\t  quantity:100`<br>"
   ]
  },
  {
   "cell_type": "markdown",
   "metadata": {},
   "source": [
    "`user1.add_to_cart(bag, 5)` <br>\n",
    "`user1.remove_from_cart(bag, 10)` <br>\n",
    "`user1.remove_from_cart(bag, 1)` <br>\n",
    "`user1.display_cart()` <br>\n",
    "`store.display_inventory()` <br>"
   ]
  },
  {
   "cell_type": "markdown",
   "metadata": {},
   "source": [
    "Output:"
   ]
  },
  {
   "cell_type": "markdown",
   "metadata": {},
   "source": [
    "`Added 5 units of bag to cart` <br>\n",
    "`Removing too many units` <br>\n",
    "`Removed 1 units of bag from cart` <br>\n",
    "`-------------` <br>\n",
    "`user01's Cart` <br>\n",
    "`-------------` <br>\n",
    "`sku:sku01\t name:bag\t price:$80\t quantity:4` <br>\n",
    "`-----------------------` <br>\n",
    "`Easy E-commerce Listing` <br>\n",
    "`-----------------------` <br>\n",
    "`sku:sku01\t name:bag\t price:$80\t quantity:496` <br>\n",
    "`sku:sku02\t name:laptop  price:$1500   quantity:20` <br>\n",
    "`sku:sku03\t name:mug\t price:$2\t  quantity:100` <br>"
   ]
  },
  {
   "cell_type": "code",
   "execution_count": 2,
   "metadata": {},
   "outputs": [],
   "source": [
    "class Item:\n",
    "    def __init__(self, sku, name, price):\n",
    "        self.sku = sku\n",
    "        self.name = name\n",
    "        self.price = price\n",
    "\n",
    "    def __str__(self):\n",
    "        pass"
   ]
  },
  {
   "cell_type": "code",
   "execution_count": 3,
   "metadata": {},
   "outputs": [],
   "source": [
    "class Store:\n",
    "    def __init__(self, inventory_list):\n",
    "        inventory = {}\n",
    "        for i in range(len(inventory_list)):\n",
    "            inventory[inventory_list[i][0]] = inventory_list[i][1]\n",
    "        self.inventory = inventory\n",
    "        \n",
    "    def add_to_store(self, item, quantity):\n",
    "        self.inventory[item] += quantity\n",
    "    \n",
    "    def remove_from_store(self, item, quantity):\n",
    "        if item not in self.inventory:\n",
    "            return 2\n",
    "        else:\n",
    "            if self.inventory[item] >= quantity:\n",
    "                self.inventory[item] -= quantity\n",
    "                return 0\n",
    "            else:\n",
    "                return 1\n",
    "        \n",
    "        \n",
    "    def display_inventory(self):\n",
    "        print(\"-----------------------\")\n",
    "        print(\"Easy E-commerce Listing\")\n",
    "        print(\"-----------------------\")\n",
    "        for key, value in self.inventory.items():\n",
    "            print(f\"sku:{key.sku}\\tname:{key.name}\\tprice:${key.price}\\tquantity:{value}\")"
   ]
  },
  {
   "cell_type": "code",
   "execution_count": 4,
   "metadata": {},
   "outputs": [],
   "source": [
    "class User:\n",
    "    \n",
    "    \n",
    "    def __init__(self, username, cc):\n",
    "        self.username = username\n",
    "        self.cc = cc\n",
    "        \n",
    "        \n",
    "        \n",
    "    def login(self, store):\n",
    "        self.cart = {}\n",
    "        print(f'{self.username} is logged in\\nEmpty cart created for {self.username}')\n",
    "        store.display_inventory()\n",
    "        self.store = store\n",
    "    \n",
    "    def add_to_cart(self, item, quantity):\n",
    "        if item not in self.store.inventory.keys():\n",
    "            print('Item not in inventory')\n",
    "        elif self.store.inventory[item] < quantity:\n",
    "            print('Insufficient stock')\n",
    "        else:\n",
    "            if item not in self.cart:\n",
    "                self.cart[item] = quantity\n",
    "                self.store.inventory[item] -= quantity\n",
    "                print(f\"Added {quantity} units of {item.name} to cart\")\n",
    "            else:\n",
    "                self.cart[item] += quantity\n",
    "                self.store.inventory[item] -= quantity\n",
    "                print(f\"Added {quantity} units of {item.name} to cart\")\n",
    "    \n",
    "    def remove_from_cart(self, item, quantity):\n",
    "        if item not in self.cart.keys():\n",
    "            print('Item not in cart')\n",
    "        elif self.cart[item] < quantity:\n",
    "            print('Removing too many units')\n",
    "        else:\n",
    "            self.cart[item] -= quantity\n",
    "            self.store.inventory[item] += quantity\n",
    "            print(f\"Removed {quantity} units of {item.name} from cart\")\n",
    "        \n",
    "    def checkout(self, store):\n",
    "        total_amount = 0\n",
    "        print(\"---------------\")\n",
    "        print(f\"Bill for {self.username}\")\n",
    "        print(\"---------------\")\n",
    "        for key, value in self.cart.items():\n",
    "            print(f\"sku:{key.sku}\\tname:{key.name}\\tprice:${key.price}\\tquantity:{value}\\ttotal:${key.price*value}\")\n",
    "            total_amount += key.price*value\n",
    "        print(f\"Total amount ${total_amount} deducted from card ending with {self.cc[-4:]}\")\n",
    "        self.cart = {}\n",
    "    \n",
    "    def display_cart(self):\n",
    "        print(\"-------------\")\n",
    "        print(f\"{self.username}'s Cart\")\n",
    "        print(\"-------------\")\n",
    "        for key, value in self.cart.items():\n",
    "            print(f\"sku:{key.sku}\\tname:{key.name}\\tprice:${key.price}\\tquantity:{value}\")\n",
    "           \n",
    "    def logout(self):\n",
    "        self.cart = {}\n",
    "        print(f\"Bye, {self.username}! See you again soon!\")"
   ]
  },
  {
   "cell_type": "code",
   "execution_count": 5,
   "metadata": {},
   "outputs": [
    {
     "name": "stdout",
     "output_type": "stream",
     "text": [
      "user01 is logged in\n",
      "Empty cart created for user01\n",
      "-----------------------\n",
      "Easy E-commerce Listing\n",
      "-----------------------\n",
      "sku:sku01\tname:bag\tprice:$80\tquantity:500\n",
      "sku:sku02\tname:laptop\tprice:$1500\tquantity:20\n",
      "sku:sku03\tname:mug\tprice:$2\tquantity:100\n",
      "Added 5 units of bag to cart\n",
      "Removing too many units\n",
      "Removed 1 units of bag from cart\n",
      "-------------\n",
      "user01's Cart\n",
      "-------------\n",
      "sku:sku01\tname:bag\tprice:$80\tquantity:4\n",
      "-----------------------\n",
      "Easy E-commerce Listing\n",
      "-----------------------\n",
      "sku:sku01\tname:bag\tprice:$80\tquantity:496\n",
      "sku:sku02\tname:laptop\tprice:$1500\tquantity:20\n",
      "sku:sku03\tname:mug\tprice:$2\tquantity:100\n",
      "Item not in inventory\n",
      "Insufficient stock\n",
      "Item not in cart\n",
      "Added 5 units of mug to cart\n",
      "-------------\n",
      "user01's Cart\n",
      "-------------\n",
      "sku:sku01\tname:bag\tprice:$80\tquantity:4\n",
      "sku:sku03\tname:mug\tprice:$2\tquantity:5\n",
      "---------------\n",
      "Bill for user01\n",
      "---------------\n",
      "sku:sku01\tname:bag\tprice:$80\tquantity:4\ttotal:$320\n",
      "sku:sku03\tname:mug\tprice:$2\tquantity:5\ttotal:$10\n",
      "Total amount $330 deducted from card ending with 3804\n",
      "Bye, user01! See you again soon!\n"
     ]
    }
   ],
   "source": [
    "bag = Item(\"sku01\", \"bag\", 80)\n",
    "laptop = Item(\"sku02\", \"laptop\", 1500)\n",
    "mug = Item(\"sku03\", \"mug\", 2)\n",
    "book = Item(\"sku04\", \"book\", 100)\n",
    "\n",
    "inventory = [\n",
    "    (bag, 500),\n",
    "    (laptop, 20),\n",
    "    (mug, 100)\n",
    "]\n",
    "store = Store(inventory)\n",
    "\n",
    "user1 = User(\"user01\", \"5264-7913-7892-3804\")\n",
    "user1.login(store)\n",
    "\n",
    "user1.add_to_cart(bag, 5)\n",
    "user1.remove_from_cart(bag, 10)\n",
    "user1.remove_from_cart(bag, 1)\n",
    "user1.display_cart()\n",
    "store.display_inventory()\n",
    "\n",
    "user1.add_to_cart(book, 2)\n",
    "user1.add_to_cart(mug, 200)\n",
    "user1.remove_from_cart(mug, 1)\n",
    "user1.add_to_cart(mug, 5)\n",
    "user1.display_cart()\n",
    "\n",
    "user1.checkout(store)\n",
    "user1.logout()"
   ]
  }
 ],
 "metadata": {
  "kernelspec": {
   "display_name": "Python 3",
   "language": "python",
   "name": "python3"
  },
  "language_info": {
   "codemirror_mode": {
    "name": "ipython",
    "version": 3
   },
   "file_extension": ".py",
   "mimetype": "text/x-python",
   "name": "python",
   "nbconvert_exporter": "python",
   "pygments_lexer": "ipython3",
   "version": "3.7.4"
  }
 },
 "nbformat": 4,
 "nbformat_minor": 2
}
