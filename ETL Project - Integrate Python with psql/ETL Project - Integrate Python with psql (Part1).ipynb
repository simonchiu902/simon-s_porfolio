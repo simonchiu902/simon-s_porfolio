{
 "cells": [
  {
   "cell_type": "markdown",
   "id": "e5057cb5",
   "metadata": {},
   "source": [
    "# ETL Project"
   ]
  },
  {
   "cell_type": "markdown",
   "id": "f7def149",
   "metadata": {},
   "source": [
    "This project aims to use Python to interact with Postgre Database."
   ]
  },
  {
   "cell_type": "markdown",
   "id": "ed557652",
   "metadata": {},
   "source": [
    "### Reference Vedio"
   ]
  },
  {
   "cell_type": "markdown",
   "id": "f25a8711",
   "metadata": {},
   "source": [
    "https://www.youtube.com/watch?v=K45k-gNNzGo&list=PLBJe2dFI4sgukOW6O0B-OVyX9c6fQKJ2N&index=2"
   ]
  },
  {
   "cell_type": "markdown",
   "id": "19db3d08",
   "metadata": {},
   "source": [
    "### Prerequisite"
   ]
  },
  {
   "cell_type": "markdown",
   "id": "d237fdf6",
   "metadata": {},
   "source": [
    "Follow the instruction to install postgre sql: https://www.postgresqltutorial.com/postgresql-getting-started/install-postgresql/"
   ]
  },
  {
   "cell_type": "code",
   "execution_count": 3,
   "id": "6ef93287",
   "metadata": {},
   "outputs": [],
   "source": [
    "# !pip install psycopg2"
   ]
  },
  {
   "cell_type": "code",
   "execution_count": 2,
   "id": "abaef68a",
   "metadata": {},
   "outputs": [],
   "source": [
    "import psycopg2"
   ]
  },
  {
   "cell_type": "markdown",
   "id": "45f7ed68",
   "metadata": {},
   "source": [
    "First, we start with some examples of using Python to interact with the database."
   ]
  },
  {
   "cell_type": "markdown",
   "id": "c64caba5",
   "metadata": {},
   "source": [
    "### Create a connection to the database"
   ]
  },
  {
   "cell_type": "code",
   "execution_count": 5,
   "id": "64b54a39",
   "metadata": {},
   "outputs": [],
   "source": [
    "try:\n",
    "    conn = psycopg2.connect(\"host=127.0.0.1 dbname=postgres user=postgres password=s516824\") #change password to the one you set during the postgre installation\n",
    "except psycopg2.Error as e:\n",
    "    print(\"Error: Couldn't make connection to the Postgres database\")\n",
    "    print(e)"
   ]
  },
  {
   "cell_type": "markdown",
   "id": "33d8dcbe",
   "metadata": {},
   "source": [
    "### Use the connection to get a cursor that can be used to execute queries"
   ]
  },
  {
   "cell_type": "code",
   "execution_count": 6,
   "id": "5764459c",
   "metadata": {},
   "outputs": [],
   "source": [
    "try:\n",
    "    cur = conn.cursor()\n",
    "except psycopg2.Error as e:\n",
    "    print(\"Error: Could not get curser to the database\")\n",
    "    print(e)"
   ]
  },
  {
   "cell_type": "markdown",
   "id": "e33a1427",
   "metadata": {},
   "source": [
    "### Set automatic commit to be true so that each action is committed without having to call conn.commit() after each command"
   ]
  },
  {
   "cell_type": "code",
   "execution_count": 7,
   "id": "fe0e905b",
   "metadata": {},
   "outputs": [],
   "source": [
    "conn.set_session(autocommit=True)"
   ]
  },
  {
   "cell_type": "markdown",
   "id": "dda908dd",
   "metadata": {},
   "source": [
    "### Create a database to do the work "
   ]
  },
  {
   "cell_type": "code",
   "execution_count": 10,
   "id": "9238b09e",
   "metadata": {},
   "outputs": [],
   "source": [
    "try:\n",
    "    cur.execute(\"create database myfirstdb\")\n",
    "except psycopg2.Error as e:\n",
    "        print(e)"
   ]
  },
  {
   "cell_type": "markdown",
   "id": "5c569d60",
   "metadata": {},
   "source": [
    "you can open your SQL Shell and type \\l to check if you sucessfully created \"myfirstdb\""
   ]
  },
  {
   "cell_type": "markdown",
   "id": "c72fb909",
   "metadata": {},
   "source": [
    "### Close the connection to the \"postgres\" and create a new connection to \"myfirstdb\""
   ]
  },
  {
   "cell_type": "code",
   "execution_count": 12,
   "id": "4a514e3c",
   "metadata": {},
   "outputs": [],
   "source": [
    "try:\n",
    "    conn.close()\n",
    "except psycopg2.Error as e:\n",
    "    print(e)\n",
    "\n",
    "try:\n",
    "    conn = psycopg2.connect(\"host=127.0.0.1 dbname=myfirstdb user=postgres password=s516824\") #change password to the one you set during the postgre installation\n",
    "except psycopg2.Error as e:\n",
    "    print(\"Error: Couldn't make connection to the Postgres database\")\n",
    "    print(e)\n",
    "\n",
    "try:\n",
    "    cur = conn.cursor()\n",
    "except psycopg2.Error as e:\n",
    "    print(\"Error: Could not get curser to the database\")\n",
    "    print(e)\n",
    "    \n",
    "conn.set_session(autocommit=True)"
   ]
  },
  {
   "cell_type": "markdown",
   "id": "bf8bf648",
   "metadata": {},
   "source": [
    "### Create a table containing below columns\n",
    "\n",
    "stuent_id\n",
    "\n",
    "name\n",
    "\n",
    "age\n",
    "\n",
    "gender\n",
    "\n",
    "subject\n",
    "\n",
    "marks"
   ]
  },
  {
   "cell_type": "code",
   "execution_count": 13,
   "id": "754d6efd",
   "metadata": {},
   "outputs": [],
   "source": [
    "try:\n",
    "    cur.execute(\"CREATE TABLE IF NOT EXISTS students (student_id int, name varchar, age int, gender varchar, subject varchar, marks int);\")\n",
    "except psycopg2.Error as e:\n",
    "    print(e)"
   ]
  },
  {
   "cell_type": "markdown",
   "id": "63f947a6",
   "metadata": {},
   "source": [
    "To check the newly created table, use SQL Sheel again and type \"\\c myfirstdb\" to connect to our newly created database. Then type \"\\dt\" to check the new table."
   ]
  },
  {
   "cell_type": "markdown",
   "id": "91805cfb",
   "metadata": {},
   "source": [
    "### Insert two rows in the table\n",
    "\n",
    "1, \"Raj\", 23, \"Male\", \"Python\", 85\n",
    "\n",
    "2, \"Priya\", 22, \"Female\", \"Python\", 86"
   ]
  },
  {
   "cell_type": "code",
   "execution_count": 14,
   "id": "6d75a01c",
   "metadata": {},
   "outputs": [],
   "source": [
    "try:\n",
    "    cur.execute(\"INSERT INTO students (student_id , name, age, gender, subject, marks) \\\n",
    "                VALUES (%s,%s,%s,%s,%s,%s)\",\\\n",
    "               (1, \"Raj\", 23, \"Male\", \"Python\", 85))\n",
    "except psycopg2.Error as e:\n",
    "    print(e)\n",
    "\n",
    "try:\n",
    "    cur.execute(\"INSERT INTO students (student_id , name, age, gender, subject, marks) \\\n",
    "                VALUES (%s,%s,%s,%s,%s,%s)\",\\\n",
    "               (2, \"Priya\", 22, \"Female\", \"Python\", 86))\n",
    "except psycopg2.Error as e:\n",
    "    print(e)"
   ]
  },
  {
   "cell_type": "markdown",
   "id": "349be717",
   "metadata": {},
   "source": [
    "### Validate inserted data"
   ]
  },
  {
   "cell_type": "code",
   "execution_count": 17,
   "id": "4a1cbf1f",
   "metadata": {},
   "outputs": [
    {
     "name": "stdout",
     "output_type": "stream",
     "text": [
      "(1, 'Raj', 23, 'Male', 'Python', 85)\n",
      "(2, 'Priya', 22, 'Female', 'Python', 86)\n"
     ]
    }
   ],
   "source": [
    "try:\n",
    "    cur.execute(\"SELECT * FROM students;\")\n",
    "except psycopg2.Error as e:\n",
    "    print(e)\n",
    "    \n",
    "row = cur.fetchone()\n",
    "while row:\n",
    "    print(row)\n",
    "    row = cur.fetchone()"
   ]
  },
  {
   "cell_type": "markdown",
   "id": "298bb2a9",
   "metadata": {},
   "source": [
    "We can go the same thing in SQL Shell by typing \"SELECT * FROM students;\""
   ]
  },
  {
   "cell_type": "markdown",
   "id": "5021a61a",
   "metadata": {},
   "source": [
    "### Close the cursor and connection"
   ]
  },
  {
   "cell_type": "code",
   "execution_count": 18,
   "id": "08419338",
   "metadata": {},
   "outputs": [],
   "source": [
    "cur.close()\n",
    "conn.close()"
   ]
  }
 ],
 "metadata": {
  "kernelspec": {
   "display_name": "Python 3 (ipykernel)",
   "language": "python",
   "name": "python3"
  },
  "language_info": {
   "codemirror_mode": {
    "name": "ipython",
    "version": 3
   },
   "file_extension": ".py",
   "mimetype": "text/x-python",
   "name": "python",
   "nbconvert_exporter": "python",
   "pygments_lexer": "ipython3",
   "version": "3.11.4"
  }
 },
 "nbformat": 4,
 "nbformat_minor": 5
}
