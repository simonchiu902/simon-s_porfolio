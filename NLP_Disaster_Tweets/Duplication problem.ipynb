{
 "cells": [
  {
   "cell_type": "markdown",
   "id": "e5b798d3-9c49-409d-9702-c89ac8298923",
   "metadata": {},
   "source": [
    "### Import Basic Packages"
   ]
  },
  {
   "cell_type": "code",
   "execution_count": 2,
   "id": "37630ad7-4759-4a81-8012-efc7604ad329",
   "metadata": {},
   "outputs": [],
   "source": [
    "import numpy as np\n",
    "import pandas as pd\n",
    "import matplotlib.pyplot as plt"
   ]
  },
  {
   "cell_type": "markdown",
   "id": "a754bc80-cea5-45c7-927e-5964a4d23867",
   "metadata": {},
   "source": [
    "### Read Data"
   ]
  },
  {
   "cell_type": "code",
   "execution_count": 3,
   "id": "834fa7aa-0442-48cc-9476-0595a451a35f",
   "metadata": {},
   "outputs": [
    {
     "data": {
      "text/html": [
       "<div>\n",
       "<style scoped>\n",
       "    .dataframe tbody tr th:only-of-type {\n",
       "        vertical-align: middle;\n",
       "    }\n",
       "\n",
       "    .dataframe tbody tr th {\n",
       "        vertical-align: top;\n",
       "    }\n",
       "\n",
       "    .dataframe thead th {\n",
       "        text-align: right;\n",
       "    }\n",
       "</style>\n",
       "<table border=\"1\" class=\"dataframe\">\n",
       "  <thead>\n",
       "    <tr style=\"text-align: right;\">\n",
       "      <th></th>\n",
       "      <th>id</th>\n",
       "      <th>keyword</th>\n",
       "      <th>location</th>\n",
       "      <th>text</th>\n",
       "      <th>target</th>\n",
       "      <th>target_relabelled</th>\n",
       "    </tr>\n",
       "  </thead>\n",
       "  <tbody>\n",
       "    <tr>\n",
       "      <th>0</th>\n",
       "      <td>1</td>\n",
       "      <td>NaN</td>\n",
       "      <td>NaN</td>\n",
       "      <td>Our Deeds are the Reason of this #earthquake M...</td>\n",
       "      <td>1</td>\n",
       "      <td>1</td>\n",
       "    </tr>\n",
       "    <tr>\n",
       "      <th>1</th>\n",
       "      <td>4</td>\n",
       "      <td>NaN</td>\n",
       "      <td>NaN</td>\n",
       "      <td>Forest fire near La Ronge Sask. Canada</td>\n",
       "      <td>1</td>\n",
       "      <td>1</td>\n",
       "    </tr>\n",
       "    <tr>\n",
       "      <th>2</th>\n",
       "      <td>5</td>\n",
       "      <td>NaN</td>\n",
       "      <td>NaN</td>\n",
       "      <td>All residents asked to 'shelter in place' are ...</td>\n",
       "      <td>1</td>\n",
       "      <td>1</td>\n",
       "    </tr>\n",
       "    <tr>\n",
       "      <th>3</th>\n",
       "      <td>6</td>\n",
       "      <td>NaN</td>\n",
       "      <td>NaN</td>\n",
       "      <td>13,000 people receive #wildfires evacuation or...</td>\n",
       "      <td>1</td>\n",
       "      <td>1</td>\n",
       "    </tr>\n",
       "    <tr>\n",
       "      <th>4</th>\n",
       "      <td>7</td>\n",
       "      <td>NaN</td>\n",
       "      <td>NaN</td>\n",
       "      <td>Just got sent this photo from Ruby #Alaska as ...</td>\n",
       "      <td>1</td>\n",
       "      <td>1</td>\n",
       "    </tr>\n",
       "  </tbody>\n",
       "</table>\n",
       "</div>"
      ],
      "text/plain": [
       "   id keyword location                                               text  \\\n",
       "0   1     NaN      NaN  Our Deeds are the Reason of this #earthquake M...   \n",
       "1   4     NaN      NaN             Forest fire near La Ronge Sask. Canada   \n",
       "2   5     NaN      NaN  All residents asked to 'shelter in place' are ...   \n",
       "3   6     NaN      NaN  13,000 people receive #wildfires evacuation or...   \n",
       "4   7     NaN      NaN  Just got sent this photo from Ruby #Alaska as ...   \n",
       "\n",
       "   target  target_relabelled  \n",
       "0       1                  1  \n",
       "1       1                  1  \n",
       "2       1                  1  \n",
       "3       1                  1  \n",
       "4       1                  1  "
      ]
     },
     "execution_count": 3,
     "metadata": {},
     "output_type": "execute_result"
    }
   ],
   "source": [
    "train_df = pd.read_csv(\"./kaggle/input/train_relabelled.csv\")\n",
    "train_df.head()"
   ]
  },
  {
   "cell_type": "code",
   "execution_count": 4,
   "id": "8dea2aab-be9e-4ea1-8ff4-8e8fc09f0aa4",
   "metadata": {},
   "outputs": [
    {
     "data": {
      "text/html": [
       "<div>\n",
       "<style scoped>\n",
       "    .dataframe tbody tr th:only-of-type {\n",
       "        vertical-align: middle;\n",
       "    }\n",
       "\n",
       "    .dataframe tbody tr th {\n",
       "        vertical-align: top;\n",
       "    }\n",
       "\n",
       "    .dataframe thead th {\n",
       "        text-align: right;\n",
       "    }\n",
       "</style>\n",
       "<table border=\"1\" class=\"dataframe\">\n",
       "  <thead>\n",
       "    <tr style=\"text-align: right;\">\n",
       "      <th></th>\n",
       "      <th>id</th>\n",
       "      <th>keyword</th>\n",
       "      <th>location</th>\n",
       "      <th>text</th>\n",
       "      <th>target</th>\n",
       "    </tr>\n",
       "  </thead>\n",
       "  <tbody>\n",
       "    <tr>\n",
       "      <th>0</th>\n",
       "      <td>1</td>\n",
       "      <td>NaN</td>\n",
       "      <td>NaN</td>\n",
       "      <td>Our Deeds are the Reason of this #earthquake M...</td>\n",
       "      <td>1</td>\n",
       "    </tr>\n",
       "    <tr>\n",
       "      <th>1</th>\n",
       "      <td>4</td>\n",
       "      <td>NaN</td>\n",
       "      <td>NaN</td>\n",
       "      <td>Forest fire near La Ronge Sask. Canada</td>\n",
       "      <td>1</td>\n",
       "    </tr>\n",
       "    <tr>\n",
       "      <th>2</th>\n",
       "      <td>5</td>\n",
       "      <td>NaN</td>\n",
       "      <td>NaN</td>\n",
       "      <td>All residents asked to 'shelter in place' are ...</td>\n",
       "      <td>1</td>\n",
       "    </tr>\n",
       "    <tr>\n",
       "      <th>3</th>\n",
       "      <td>6</td>\n",
       "      <td>NaN</td>\n",
       "      <td>NaN</td>\n",
       "      <td>13,000 people receive #wildfires evacuation or...</td>\n",
       "      <td>1</td>\n",
       "    </tr>\n",
       "    <tr>\n",
       "      <th>4</th>\n",
       "      <td>7</td>\n",
       "      <td>NaN</td>\n",
       "      <td>NaN</td>\n",
       "      <td>Just got sent this photo from Ruby #Alaska as ...</td>\n",
       "      <td>1</td>\n",
       "    </tr>\n",
       "  </tbody>\n",
       "</table>\n",
       "</div>"
      ],
      "text/plain": [
       "   id keyword location                                               text  \\\n",
       "0   1     NaN      NaN  Our Deeds are the Reason of this #earthquake M...   \n",
       "1   4     NaN      NaN             Forest fire near La Ronge Sask. Canada   \n",
       "2   5     NaN      NaN  All residents asked to 'shelter in place' are ...   \n",
       "3   6     NaN      NaN  13,000 people receive #wildfires evacuation or...   \n",
       "4   7     NaN      NaN  Just got sent this photo from Ruby #Alaska as ...   \n",
       "\n",
       "   target  \n",
       "0       1  \n",
       "1       1  \n",
       "2       1  \n",
       "3       1  \n",
       "4       1  "
      ]
     },
     "execution_count": 4,
     "metadata": {},
     "output_type": "execute_result"
    }
   ],
   "source": [
    "#read the modified train data \n",
    "#drop original target and rename target_relabelled to be target, so that we can use the previous code to run models\n",
    "train_df = pd.read_csv(\"./kaggle/input/train_relabelled.csv\")\n",
    "train_df = train_df.drop('target', axis=1)\n",
    "column_mapping = {'target_relabelled': 'target'}\n",
    "train_df = train_df.rename(columns=column_mapping)\n",
    "train_df.head()"
   ]
  },
  {
   "cell_type": "code",
   "execution_count": 7,
   "id": "79433544-8da3-4327-a0a7-4d263f12fd5f",
   "metadata": {},
   "outputs": [],
   "source": [
    "# Set the max_colwidth option to None to display full width\n",
    "pd.set_option('max_colwidth', None)"
   ]
  },
  {
   "cell_type": "markdown",
   "id": "dd9b47ce-cea3-4a5a-8f87-88d18eec0b7b",
   "metadata": {},
   "source": [
    "### Duplication Tweet Problem\n",
    "\n",
    "Certain tweets appear almost identical, with variations primarily in the URL at the beginning and end of the sentences or some extra words. This could be attributed to the fact that these tweets are retweets.\n",
    "\n",
    "This duplication problem may cause overfitting and misleading when training our models."
   ]
  },
  {
   "cell_type": "code",
   "execution_count": 8,
   "id": "0fc6d2e5-e556-4e7a-a2d8-12b9a2d546e9",
   "metadata": {},
   "outputs": [
    {
     "data": {
      "text/plain": [
       "172    http://t.co/AY6zzcUpnz Twelve feared killed in Pakistani air ambulance helicopter crash http://t.co/sC9dNS41Mc\n",
       "174        Twelve feared killed in Pakistani air ambulance helicopter crash - Reuters http://t.co/mDnUGVuBwN #yugvani\n",
       "177                           Twelve feared killed in Pakistani air ambulance helicopter crash http://t.co/Xum8YLcb4Q\n",
       "182       #news Twelve feared killed in Pakistani air ambulance helicopter crash http://t.co/bFeS5tWBzt #til_now #DNA\n",
       "183    http://t.co/7xGLah10zL Twelve feared killed in Pakistani air ambulance helicopter crash http://t.co/THmblAATzP\n",
       "190    http://t.co/FCqmKFfflW Twelve feared killed in Pakistani air ambulance helicopter crash http://t.co/vAyaYmbNgu\n",
       "191                           Twelve feared killed in Pakistani air ambulance helicopter crash http://t.co/3bRme6Sn4t\n",
       "196                  #reuters Twelve feared killed in Pakistani air ambulance helicopter crash http://t.co/ShzPyIQok5\n",
       "197    http://t.co/pWwpUm6RBj Twelve feared killed in Pakistani air ambulance helicopter crash http://t.co/ySpON4d6Qo\n",
       "201    http://t.co/FueRk0gWui Twelve feared killed in Pakistani air ambulance helicopter crash http://t.co/Mv7GgGlmVc\n",
       "202    http://t.co/X5YEUYLT1X Twelve feared killed in Pakistani air ambulance helicopter crash http://t.co/2UgrMd1z1n\n",
       "203                Twelve feared killed in Pakistani air ambulance helicopter crash http://t.co/TH9YwBbeet #worldNews\n",
       "204                Twelve feared killed in Pakistani air ambulance helicopter crash http://t.co/X2Qsjod40u #worldnews\n",
       "207    http://t.co/J8TYT1XRRK Twelve feared killed in Pakistani air ambulance helicopter crash http://t.co/9d4nAzOI94\n",
       "Name: text, dtype: object"
      ]
     },
     "execution_count": 8,
     "metadata": {},
     "output_type": "execute_result"
    }
   ],
   "source": [
    "# Ex1\n",
    "# Filter rows containing the specific text\n",
    "text_to_search = 'Twelve feared killed in Pakistani air ambulance helicopter crash'\n",
    "train_df[train_df['text'].str.contains(text_to_search)].text"
   ]
  },
  {
   "cell_type": "code",
   "execution_count": 9,
   "id": "1bc4a256-e034-47b1-a480-86a6e6734c31",
   "metadata": {},
   "outputs": [
    {
     "data": {
      "text/plain": [
       "391                                  Arson suspect linked to 30 fires caught in Northern California http://t.co/EJ2GHNAfHY\n",
       "398    RelaxInPR: miprv: RT latimes: Arson suspect linked to 30 fires caught in Northern California http://t.co/ylhAyfaOOu\n",
       "408                   Arson suspect linked to 30 fires caught in Northern California http://t.co/wnuqQAtTTP (via @latimes)\n",
       "410              Arson suspect linked to 30 fires caught in Northern California - Los Angeles Times http://t.co/PrRB4fhXtv\n",
       "411                                  Arson suspect linked to 30 fires caught in Northern California http://t.co/u1fuWrGK5U\n",
       "417                                  Arson suspect linked to 30 fires caught in Northern California http://t.co/mmGsyAHDzb\n",
       "Name: text, dtype: object"
      ]
     },
     "execution_count": 9,
     "metadata": {},
     "output_type": "execute_result"
    }
   ],
   "source": [
    "# Ex1\n",
    "# Filter rows containing the specific text\n",
    "text_to_search = 'rson suspect linked to 30 fires caught in Northern California'\n",
    "train_df[train_df['text'].str.contains(text_to_search)].text"
   ]
  },
  {
   "cell_type": "markdown",
   "id": "f5c4cdb2-c38f-445d-8f41-e87b95b2aedd",
   "metadata": {},
   "source": [
    "In the initial example, the pattern is straightforward. If we eliminate the words surrounding the URL (including the URL itself), we can discern that they all represent the same sentence. However, in the second example, the pattern is less distinct. Currently, our efforts are primarily focused on addressing the pattern observed in the first example. Nevertheless, it's worth noting that there is room for further improvement in the dataset preprocessing."
   ]
  }
 ],
 "metadata": {
  "kernelspec": {
   "display_name": "Python 3 (ipykernel)",
   "language": "python",
   "name": "python3"
  },
  "language_info": {
   "codemirror_mode": {
    "name": "ipython",
    "version": 3
   },
   "file_extension": ".py",
   "mimetype": "text/x-python",
   "name": "python",
   "nbconvert_exporter": "python",
   "pygments_lexer": "ipython3",
   "version": "3.10.9"
  }
 },
 "nbformat": 4,
 "nbformat_minor": 5
}
