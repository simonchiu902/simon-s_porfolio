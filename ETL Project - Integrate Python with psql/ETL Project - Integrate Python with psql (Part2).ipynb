{
 "cells": [
  {
   "cell_type": "markdown",
   "id": "e5057cb5",
   "metadata": {},
   "source": [
    "# ETL Project"
   ]
  },
  {
   "cell_type": "markdown",
   "id": "f7def149",
   "metadata": {},
   "source": [
    "This project aims to use Python to interact with Postgre Database."
   ]
  },
  {
   "cell_type": "markdown",
   "id": "f6319c32",
   "metadata": {},
   "source": [
    "At part1, we have already learnt some basic interactions between python and psql. Now we're going to use python to create tables and insert csv datasets into psql tables."
   ]
  },
  {
   "cell_type": "markdown",
   "id": "ed557652",
   "metadata": {},
   "source": [
    "### Reference Vedio"
   ]
  },
  {
   "cell_type": "markdown",
   "id": "f25a8711",
   "metadata": {},
   "source": [
    "https://www.youtube.com/watch?v=POjDCe-_G8k&list=PLBJe2dFI4sgukOW6O0B-OVyX9c6fQKJ2N&index=3"
   ]
  },
  {
   "cell_type": "markdown",
   "id": "19db3d08",
   "metadata": {},
   "source": [
    "### Prerequisite"
   ]
  },
  {
   "cell_type": "markdown",
   "id": "d237fdf6",
   "metadata": {},
   "source": [
    "Follow the ETL Project Part1 instruction."
   ]
  },
  {
   "cell_type": "markdown",
   "id": "141ff269",
   "metadata": {},
   "source": [
    "Download three datasets from this link and place them in the folder where this notebook is located: https://drive.google.com/drive/folders/1crEAKkiZg60oNKK37WzfpRo_M6E1MXSz"
   ]
  },
  {
   "cell_type": "code",
   "execution_count": 83,
   "id": "abaef68a",
   "metadata": {},
   "outputs": [],
   "source": [
    "import psycopg2\n",
    "import pandas as pd\n",
    "import numpy as np"
   ]
  },
  {
   "cell_type": "markdown",
   "id": "8a7e93e5",
   "metadata": {},
   "source": [
    "### Examinate the three datasets."
   ]
  },
  {
   "cell_type": "code",
   "execution_count": 22,
   "id": "96db4c68",
   "metadata": {},
   "outputs": [],
   "source": [
    "AccountsCountry = pd.read_csv(\"Wealth-AccountsCountry.csv\")\n",
    "AccountData = pd.read_csv(\"Wealth-AccountData.csv\")\n",
    "AccountSeries = pd.read_csv(\"Wealth-AccountSeries.csv\")"
   ]
  },
  {
   "cell_type": "code",
   "execution_count": 16,
   "id": "925075f2",
   "metadata": {},
   "outputs": [
    {
     "data": {
      "text/html": [
       "<div>\n",
       "<style scoped>\n",
       "    .dataframe tbody tr th:only-of-type {\n",
       "        vertical-align: middle;\n",
       "    }\n",
       "\n",
       "    .dataframe tbody tr th {\n",
       "        vertical-align: top;\n",
       "    }\n",
       "\n",
       "    .dataframe thead th {\n",
       "        text-align: right;\n",
       "    }\n",
       "</style>\n",
       "<table border=\"1\" class=\"dataframe\">\n",
       "  <thead>\n",
       "    <tr style=\"text-align: right;\">\n",
       "      <th></th>\n",
       "      <th>Code</th>\n",
       "      <th>Long Name</th>\n",
       "      <th>Income Group</th>\n",
       "      <th>Region</th>\n",
       "      <th>Lending category</th>\n",
       "      <th>Other groups</th>\n",
       "      <th>Currency Unit</th>\n",
       "      <th>Latest population census</th>\n",
       "      <th>Latest household survey</th>\n",
       "      <th>Special Notes</th>\n",
       "      <th>...</th>\n",
       "      <th>Source of most recent Income and expenditure data</th>\n",
       "      <th>Vital registration complete</th>\n",
       "      <th>Latest agricultural census</th>\n",
       "      <th>Latest industrial data</th>\n",
       "      <th>Latest trade data</th>\n",
       "      <th>Latest water withdrawal data</th>\n",
       "      <th>2-alpha code</th>\n",
       "      <th>WB-2 code</th>\n",
       "      <th>Table Name</th>\n",
       "      <th>Short Name</th>\n",
       "    </tr>\n",
       "  </thead>\n",
       "  <tbody>\n",
       "    <tr>\n",
       "      <th>0</th>\n",
       "      <td>ALB</td>\n",
       "      <td>Republic of Albania</td>\n",
       "      <td>Upper middle income</td>\n",
       "      <td>Europe &amp; Central Asia</td>\n",
       "      <td>IBRD</td>\n",
       "      <td>NaN</td>\n",
       "      <td>Albanian lek</td>\n",
       "      <td>2020 (expected)</td>\n",
       "      <td>Demographic and Health Survey, 2017/18</td>\n",
       "      <td>NaN</td>\n",
       "      <td>...</td>\n",
       "      <td>Living Standards Measurement Study Survey (LSM...</td>\n",
       "      <td>Yes</td>\n",
       "      <td>2012</td>\n",
       "      <td>2013.0</td>\n",
       "      <td>2018.0</td>\n",
       "      <td>2006.0</td>\n",
       "      <td>AL</td>\n",
       "      <td>AL</td>\n",
       "      <td>Albania</td>\n",
       "      <td>Albania</td>\n",
       "    </tr>\n",
       "  </tbody>\n",
       "</table>\n",
       "<p>1 rows × 31 columns</p>\n",
       "</div>"
      ],
      "text/plain": [
       "  Code            Long Name         Income Group                 Region  \\\n",
       "0  ALB  Republic of Albania  Upper middle income  Europe & Central Asia   \n",
       "\n",
       "  Lending category Other groups Currency Unit Latest population census  \\\n",
       "0             IBRD          NaN  Albanian lek          2020 (expected)   \n",
       "\n",
       "                  Latest household survey Special Notes  ...  \\\n",
       "0  Demographic and Health Survey, 2017/18           NaN  ...   \n",
       "\n",
       "   Source of most recent Income and expenditure data  \\\n",
       "0  Living Standards Measurement Study Survey (LSM...   \n",
       "\n",
       "   Vital registration complete Latest agricultural census  \\\n",
       "0                          Yes                       2012   \n",
       "\n",
       "  Latest industrial data Latest trade data Latest water withdrawal data  \\\n",
       "0                 2013.0            2018.0                       2006.0   \n",
       "\n",
       "  2-alpha code WB-2 code Table Name Short Name  \n",
       "0           AL        AL    Albania    Albania  \n",
       "\n",
       "[1 rows x 31 columns]"
      ]
     },
     "execution_count": 16,
     "metadata": {},
     "output_type": "execute_result"
    }
   ],
   "source": [
    "AccountsCountry.head(1)"
   ]
  },
  {
   "cell_type": "code",
   "execution_count": 17,
   "id": "0525f07b",
   "metadata": {},
   "outputs": [
    {
     "data": {
      "text/html": [
       "<div>\n",
       "<style scoped>\n",
       "    .dataframe tbody tr th:only-of-type {\n",
       "        vertical-align: middle;\n",
       "    }\n",
       "\n",
       "    .dataframe tbody tr th {\n",
       "        vertical-align: top;\n",
       "    }\n",
       "\n",
       "    .dataframe thead th {\n",
       "        text-align: right;\n",
       "    }\n",
       "</style>\n",
       "<table border=\"1\" class=\"dataframe\">\n",
       "  <thead>\n",
       "    <tr style=\"text-align: right;\">\n",
       "      <th></th>\n",
       "      <th>Country Name</th>\n",
       "      <th>Country Code</th>\n",
       "      <th>Series Name</th>\n",
       "      <th>Series Code</th>\n",
       "      <th>1995 [YR1995]</th>\n",
       "      <th>1996 [YR1996]</th>\n",
       "      <th>1997 [YR1997]</th>\n",
       "      <th>1998 [YR1998]</th>\n",
       "      <th>1999 [YR1999]</th>\n",
       "      <th>2000 [YR2000]</th>\n",
       "      <th>...</th>\n",
       "      <th>2009 [YR2009]</th>\n",
       "      <th>2010 [YR2010]</th>\n",
       "      <th>2011 [YR2011]</th>\n",
       "      <th>2012 [YR2012]</th>\n",
       "      <th>2013 [YR2013]</th>\n",
       "      <th>2014 [YR2014]</th>\n",
       "      <th>2015 [YR2015]</th>\n",
       "      <th>2016 [YR2016]</th>\n",
       "      <th>2017 [YR2017]</th>\n",
       "      <th>2018 [YR2018]</th>\n",
       "    </tr>\n",
       "  </thead>\n",
       "  <tbody>\n",
       "    <tr>\n",
       "      <th>0</th>\n",
       "      <td>Albania</td>\n",
       "      <td>ALB</td>\n",
       "      <td>Human capital (constant 2018 US$)</td>\n",
       "      <td>NW.HCA.TO</td>\n",
       "      <td>4.49E+10</td>\n",
       "      <td>4.34E+10</td>\n",
       "      <td>3.71E+10</td>\n",
       "      <td>3.88E+10</td>\n",
       "      <td>4.22E+10</td>\n",
       "      <td>4.36E+10</td>\n",
       "      <td>...</td>\n",
       "      <td>6.610000e+10</td>\n",
       "      <td>6.810000e+10</td>\n",
       "      <td>6.850000e+10</td>\n",
       "      <td>7.080000e+10</td>\n",
       "      <td>7.160000e+10</td>\n",
       "      <td>7.250000e+10</td>\n",
       "      <td>7.370000e+10</td>\n",
       "      <td>7.57E+10</td>\n",
       "      <td>7.80E+10</td>\n",
       "      <td>8.12E+10</td>\n",
       "    </tr>\n",
       "  </tbody>\n",
       "</table>\n",
       "<p>1 rows × 28 columns</p>\n",
       "</div>"
      ],
      "text/plain": [
       "  Country Name Country Code                        Series Name Series Code  \\\n",
       "0      Albania          ALB  Human capital (constant 2018 US$)   NW.HCA.TO   \n",
       "\n",
       "  1995 [YR1995] 1996 [YR1996] 1997 [YR1997] 1998 [YR1998] 1999 [YR1999]  \\\n",
       "0      4.49E+10      4.34E+10      3.71E+10      3.88E+10      4.22E+10   \n",
       "\n",
       "  2000 [YR2000]  ... 2009 [YR2009] 2010 [YR2010] 2011 [YR2011] 2012 [YR2012]  \\\n",
       "0      4.36E+10  ...  6.610000e+10  6.810000e+10  6.850000e+10  7.080000e+10   \n",
       "\n",
       "   2013 [YR2013]  2014 [YR2014]  2015 [YR2015]  2016 [YR2016]  2017 [YR2017]  \\\n",
       "0   7.160000e+10   7.250000e+10   7.370000e+10       7.57E+10       7.80E+10   \n",
       "\n",
       "   2018 [YR2018]  \n",
       "0       8.12E+10  \n",
       "\n",
       "[1 rows x 28 columns]"
      ]
     },
     "execution_count": 17,
     "metadata": {},
     "output_type": "execute_result"
    }
   ],
   "source": [
    "AccountData.head(1)"
   ]
  },
  {
   "cell_type": "code",
   "execution_count": 18,
   "id": "edaf0116",
   "metadata": {},
   "outputs": [
    {
     "data": {
      "text/html": [
       "<div>\n",
       "<style scoped>\n",
       "    .dataframe tbody tr th:only-of-type {\n",
       "        vertical-align: middle;\n",
       "    }\n",
       "\n",
       "    .dataframe tbody tr th {\n",
       "        vertical-align: top;\n",
       "    }\n",
       "\n",
       "    .dataframe thead th {\n",
       "        text-align: right;\n",
       "    }\n",
       "</style>\n",
       "<table border=\"1\" class=\"dataframe\">\n",
       "  <thead>\n",
       "    <tr style=\"text-align: right;\">\n",
       "      <th></th>\n",
       "      <th>Code</th>\n",
       "      <th>Indicator Name</th>\n",
       "      <th>Long definition</th>\n",
       "      <th>Source</th>\n",
       "      <th>Topic</th>\n",
       "      <th>Unit of measure</th>\n",
       "      <th>Periodicity</th>\n",
       "      <th>Reference period</th>\n",
       "      <th>Statistical concept and methodology</th>\n",
       "      <th>Previous Indicator Code</th>\n",
       "      <th>Previous Indicator Name</th>\n",
       "    </tr>\n",
       "  </thead>\n",
       "  <tbody>\n",
       "    <tr>\n",
       "      <th>0</th>\n",
       "      <td>NW.HCA.TO</td>\n",
       "      <td>Human capital (constant 2018 US$)</td>\n",
       "      <td>Human capital is computed as the present value...</td>\n",
       "      <td>World Bank. 2021. The Changing Wealth of Natio...</td>\n",
       "      <td>Human capital</td>\n",
       "      <td>Constant 2018 US$</td>\n",
       "      <td>Annual</td>\n",
       "      <td>1995-2018</td>\n",
       "      <td>Total wealth is calculated by summing up estim...</td>\n",
       "      <td>NaN</td>\n",
       "      <td>NaN</td>\n",
       "    </tr>\n",
       "  </tbody>\n",
       "</table>\n",
       "</div>"
      ],
      "text/plain": [
       "        Code                     Indicator Name  \\\n",
       "0  NW.HCA.TO  Human capital (constant 2018 US$)   \n",
       "\n",
       "                                     Long definition  \\\n",
       "0  Human capital is computed as the present value...   \n",
       "\n",
       "                                              Source          Topic  \\\n",
       "0  World Bank. 2021. The Changing Wealth of Natio...  Human capital   \n",
       "\n",
       "     Unit of measure Periodicity Reference period  \\\n",
       "0  Constant 2018 US$      Annual        1995-2018   \n",
       "\n",
       "                 Statistical concept and methodology Previous Indicator Code  \\\n",
       "0  Total wealth is calculated by summing up estim...                     NaN   \n",
       "\n",
       "  Previous Indicator Name  \n",
       "0                     NaN  "
      ]
     },
     "execution_count": 18,
     "metadata": {},
     "output_type": "execute_result"
    }
   ],
   "source": [
    "AccountSeries.head(1)"
   ]
  },
  {
   "cell_type": "markdown",
   "id": "484d2ce9",
   "metadata": {},
   "source": [
    "The relation among these three datasets:\n",
    "\n",
    "1. AccountsCountry.Code = AccountData.Country Code\n",
    "\n",
    "2. AccountData.Series Name = AccountSeries.Indicator Name"
   ]
  },
  {
   "cell_type": "markdown",
   "id": "b2336e46",
   "metadata": {},
   "source": [
    "### Data Cleaning"
   ]
  },
  {
   "cell_type": "markdown",
   "id": "4ba62a59",
   "metadata": {},
   "source": [
    "1. select useful columns from AccountsCountry and rename 'Code' to 'Country Code'"
   ]
  },
  {
   "cell_type": "code",
   "execution_count": 23,
   "id": "f8719861",
   "metadata": {},
   "outputs": [
    {
     "name": "stdout",
     "output_type": "stream",
     "text": [
      "Index(['Code', 'Long Name', 'Income Group', 'Region', 'Lending category',\n",
      "       'Other groups', 'Currency Unit', 'Latest population census',\n",
      "       'Latest household survey', 'Special Notes',\n",
      "       'National accounts base year', 'National accounts reference year',\n",
      "       'System of National Accounts', 'SNA price valuation',\n",
      "       'Alternative conversion factor', 'PPP survey years',\n",
      "       'Balance of Payments Manual in use', 'External debt Reporting status',\n",
      "       'System of trade', 'Government Accounting concept',\n",
      "       'IMF data dissemination standard',\n",
      "       'Source of most recent Income and expenditure data',\n",
      "       'Vital registration complete', 'Latest agricultural census',\n",
      "       'Latest industrial data', 'Latest trade data',\n",
      "       'Latest water withdrawal data', '2-alpha code', 'WB-2 code',\n",
      "       'Table Name', 'Short Name'],\n",
      "      dtype='object')\n",
      "Index(['Country Code', 'Short Name', 'Table Name', 'Long Name',\n",
      "       'Currency Unit'],\n",
      "      dtype='object')\n"
     ]
    },
    {
     "name": "stderr",
     "output_type": "stream",
     "text": [
      "C:\\Users\\user\\AppData\\Local\\Temp\\ipykernel_5280\\2840479660.py:5: SettingWithCopyWarning: \n",
      "A value is trying to be set on a copy of a slice from a DataFrame\n",
      "\n",
      "See the caveats in the documentation: https://pandas.pydata.org/pandas-docs/stable/user_guide/indexing.html#returning-a-view-versus-a-copy\n",
      "  AccountsCountry_clean.rename(columns={'Code': 'Country Code'}, inplace=True)\n"
     ]
    }
   ],
   "source": [
    "print(AccountsCountry.columns)\n",
    "# select some useful columns\n",
    "AccountsCountry_clean = AccountsCountry[['Code','Short Name','Table Name','Long Name','Currency Unit']]\n",
    "# Rename 'Code' to 'Country Code'\n",
    "AccountsCountry_clean.rename(columns={'Code': 'Country Code'}, inplace=True)\n",
    "print(AccountsCountry_clean.columns)"
   ]
  },
  {
   "cell_type": "markdown",
   "id": "10367499",
   "metadata": {},
   "source": [
    "2. select useful columns, rename 'Series Name' to 'Indicator Name' and convert columns to float."
   ]
  },
  {
   "cell_type": "code",
   "execution_count": 84,
   "id": "6e4d468d",
   "metadata": {},
   "outputs": [
    {
     "name": "stdout",
     "output_type": "stream",
     "text": [
      "Index(['Country Name', 'Country Code', 'Series Name', 'Series Code',\n",
      "       '1995 [YR1995]', '1996 [YR1996]', '1997 [YR1997]', '1998 [YR1998]',\n",
      "       '1999 [YR1999]', '2000 [YR2000]', '2001 [YR2001]', '2002 [YR2002]',\n",
      "       '2003 [YR2003]', '2004 [YR2004]', '2005 [YR2005]', '2006 [YR2006]',\n",
      "       '2007 [YR2007]', '2008 [YR2008]', '2009 [YR2009]', '2010 [YR2010]',\n",
      "       '2011 [YR2011]', '2012 [YR2012]', '2013 [YR2013]', '2014 [YR2014]',\n",
      "       '2015 [YR2015]', '2016 [YR2016]', '2017 [YR2017]', '2018 [YR2018]'],\n",
      "      dtype='object')\n",
      "Index(['Country Name', 'Country Code', 'Indicator Name', 'Series Code',\n",
      "       '1995 [YR1995]', '1996 [YR1996]', '1997 [YR1997]'],\n",
      "      dtype='object')\n"
     ]
    },
    {
     "name": "stderr",
     "output_type": "stream",
     "text": [
      "C:\\Users\\user\\AppData\\Local\\Temp\\ipykernel_5280\\466026074.py:5: SettingWithCopyWarning: \n",
      "A value is trying to be set on a copy of a slice from a DataFrame\n",
      "\n",
      "See the caveats in the documentation: https://pandas.pydata.org/pandas-docs/stable/user_guide/indexing.html#returning-a-view-versus-a-copy\n",
      "  AccountData_clean.rename(columns={'Series Name': 'Indicator Name'}, inplace=True)\n",
      "C:\\Users\\user\\AppData\\Local\\Temp\\ipykernel_5280\\466026074.py:9: SettingWithCopyWarning: \n",
      "A value is trying to be set on a copy of a slice from a DataFrame.\n",
      "Try using .loc[row_indexer,col_indexer] = value instead\n",
      "\n",
      "See the caveats in the documentation: https://pandas.pydata.org/pandas-docs/stable/user_guide/indexing.html#returning-a-view-versus-a-copy\n",
      "  AccountData_clean[columns_to_convert] = AccountData_clean[columns_to_convert].replace('..', np.nan)\n",
      "C:\\Users\\user\\AppData\\Local\\Temp\\ipykernel_5280\\466026074.py:10: SettingWithCopyWarning: \n",
      "A value is trying to be set on a copy of a slice from a DataFrame.\n",
      "Try using .loc[row_indexer,col_indexer] = value instead\n",
      "\n",
      "See the caveats in the documentation: https://pandas.pydata.org/pandas-docs/stable/user_guide/indexing.html#returning-a-view-versus-a-copy\n",
      "  AccountData_clean[columns_to_convert] = AccountData_clean[columns_to_convert].astype(float)\n"
     ]
    }
   ],
   "source": [
    "print(AccountData.columns)\n",
    "#select useful columns\n",
    "AccountData_clean = AccountData[['Country Name','Country Code','Series Name','Series Code','1995 [YR1995]', '1996 [YR1996]', '1997 [YR1997]']]\n",
    "# rename 'Series Name' to 'indicator name'\n",
    "AccountData_clean.rename(columns={'Series Name': 'Indicator Name'}, inplace=True)\n",
    "print(AccountData_clean.columns)\n",
    "# convert to float\n",
    "columns_to_convert = ['1995 [YR1995]', '1996 [YR1996]', '1997 [YR1997]'] \n",
    "AccountData_clean[columns_to_convert] = AccountData_clean[columns_to_convert].replace('..', np.nan)\n",
    "AccountData_clean[columns_to_convert] = AccountData_clean[columns_to_convert].astype(float)\n"
   ]
  },
  {
   "cell_type": "markdown",
   "id": "723e8824",
   "metadata": {},
   "source": [
    "3. select useful columns and rename 'Code' to 'Series Code'"
   ]
  },
  {
   "cell_type": "code",
   "execution_count": 25,
   "id": "1dd48b7a",
   "metadata": {},
   "outputs": [
    {
     "name": "stdout",
     "output_type": "stream",
     "text": [
      "Index(['Code', 'Indicator Name', 'Long definition', 'Source', 'Topic',\n",
      "       'Unit of measure', 'Periodicity', 'Reference period',\n",
      "       'Statistical concept and methodology', 'Previous Indicator Code',\n",
      "       'Previous Indicator Name'],\n",
      "      dtype='object')\n",
      "Index(['Series Code', 'Topic', 'Indicator Name'], dtype='object')\n"
     ]
    },
    {
     "name": "stderr",
     "output_type": "stream",
     "text": [
      "C:\\Users\\user\\AppData\\Local\\Temp\\ipykernel_5280\\462433517.py:5: SettingWithCopyWarning: \n",
      "A value is trying to be set on a copy of a slice from a DataFrame\n",
      "\n",
      "See the caveats in the documentation: https://pandas.pydata.org/pandas-docs/stable/user_guide/indexing.html#returning-a-view-versus-a-copy\n",
      "  AccountSeries_clean.rename(columns={'Code': 'Series Code'}, inplace=True)\n"
     ]
    }
   ],
   "source": [
    "print(AccountSeries.columns)\n",
    "#select useful columns\n",
    "AccountSeries_clean = AccountSeries[['Code','Topic','Indicator Name']]\n",
    "#rename 'Code' to 'Series Code'\n",
    "AccountSeries_clean.rename(columns={'Code': 'Series Code'}, inplace=True)\n",
    "print(AccountSeries_clean.columns)"
   ]
  },
  {
   "cell_type": "markdown",
   "id": "e4cad160",
   "metadata": {},
   "source": [
    "### Define functions for creation of tables in psql"
   ]
  },
  {
   "cell_type": "code",
   "execution_count": 52,
   "id": "ee52d6d4",
   "metadata": {},
   "outputs": [],
   "source": [
    "def create_database():\n",
    "    #connect to the default database\n",
    "    conn = psycopg2.connect(\"host=127.0.0.1 dbname=postgres user=postgres password=s516824\")\n",
    "    conn.set_session(autocommit=True)\n",
    "    cur = conn.cursor()\n",
    "    \n",
    "    #create new database\n",
    "    cur.execute(\"DROP DATABASE accounts\")\n",
    "    cur.execute(\"CREATE DATABASE accounts\")\n",
    "    \n",
    "    #close connection to default database\n",
    "    conn.close()\n",
    "    \n",
    "    #connect to new database\n",
    "    conn = psycopg2.connect(\"host=127.0.0.1 dbname=accounts user=postgres password=s516824\")\n",
    "    cur = conn.cursor()\n",
    "    \n",
    "    return cur, conn"
   ]
  },
  {
   "cell_type": "code",
   "execution_count": 53,
   "id": "374c8cbf",
   "metadata": {},
   "outputs": [],
   "source": [
    "def drop_tables(cur, conn):\n",
    "    for query in drop_table_queries:\n",
    "        cur.execute(query)\n",
    "        conn.commit()"
   ]
  },
  {
   "cell_type": "code",
   "execution_count": 54,
   "id": "cad89c86",
   "metadata": {},
   "outputs": [],
   "source": [
    "def create_tables(cur, conn):\n",
    "    for query in create_table_queries:\n",
    "        cur.execute(query)\n",
    "        conn.commit()"
   ]
  },
  {
   "cell_type": "markdown",
   "id": "c0242612",
   "metadata": {},
   "source": [
    "### Create three new tables"
   ]
  },
  {
   "cell_type": "code",
   "execution_count": 68,
   "id": "d8590f36",
   "metadata": {},
   "outputs": [],
   "source": [
    "cur, conn = create_database()"
   ]
  },
  {
   "cell_type": "code",
   "execution_count": 69,
   "id": "e6c9b3cb",
   "metadata": {},
   "outputs": [],
   "source": [
    "AccountsCountry_create = (\"\"\"\n",
    "    CREATE TABLE IF NOT EXISTS accountscountry(\n",
    "        country_code VARCHAR,\n",
    "        short_name VARCHAR,\n",
    "        table_name VARCHAR,\n",
    "        long_name VARCHAR,\n",
    "        currency_unit VARCHAR\n",
    "    )\n",
    "\"\"\")"
   ]
  },
  {
   "cell_type": "code",
   "execution_count": 70,
   "id": "f547a7c5",
   "metadata": {},
   "outputs": [],
   "source": [
    "cur.execute(AccountsCountry_create)\n",
    "conn.commit()"
   ]
  },
  {
   "cell_type": "code",
   "execution_count": 71,
   "id": "bdd2617b",
   "metadata": {},
   "outputs": [],
   "source": [
    "AccountData_create = (\"\"\"\n",
    "    CREATE TABLE IF NOT EXISTS accountsdata(\n",
    "        country_name VARCHAR,\n",
    "        country_code VARCHAR,\n",
    "        indicator_name VARCHAR,\n",
    "        series_code VARCHAR,\n",
    "        year_1995 numeric,\n",
    "        year_1996 numeric,\n",
    "        year_1997 numeric\n",
    "    )\n",
    "\"\"\")"
   ]
  },
  {
   "cell_type": "code",
   "execution_count": 72,
   "id": "21a491ee",
   "metadata": {},
   "outputs": [],
   "source": [
    "cur.execute(AccountData_create)\n",
    "conn.commit()"
   ]
  },
  {
   "cell_type": "code",
   "execution_count": 73,
   "id": "3db141da",
   "metadata": {},
   "outputs": [],
   "source": [
    "AccountSeries_create = (\"\"\"\n",
    "    CREATE TABLE IF NOT EXISTS accountsseries(\n",
    "        series_code VARCHAR,\n",
    "        topic VARCHAR,\n",
    "        indicator_name VARCHAR\n",
    "    )\n",
    "\"\"\")\n",
    "cur.execute(AccountSeries_create)\n",
    "conn.commit()"
   ]
  },
  {
   "cell_type": "markdown",
   "id": "b9085f6e",
   "metadata": {},
   "source": [
    "### Insert data into tables"
   ]
  },
  {
   "cell_type": "code",
   "execution_count": 91,
   "id": "cefe7e43",
   "metadata": {},
   "outputs": [],
   "source": [
    "AccountsCountry_insert = (\"\"\"\n",
    "    INSERT INTO accountscountry(\n",
    "        country_code ,\n",
    "        short_name ,\n",
    "        table_name ,\n",
    "        long_name ,\n",
    "        currency_unit\n",
    "    )\n",
    "    VALUES (%s,%s,%s,%s,%s)\n",
    "\"\"\")"
   ]
  },
  {
   "cell_type": "code",
   "execution_count": 92,
   "id": "28b03a1d",
   "metadata": {},
   "outputs": [],
   "source": [
    "for i, row in AccountsCountry_clean.iterrows():\n",
    "    cur.execute(AccountsCountry_insert, list(row))\n",
    "conn.commit()"
   ]
  },
  {
   "cell_type": "code",
   "execution_count": 93,
   "id": "531b95db",
   "metadata": {},
   "outputs": [],
   "source": [
    "AccountData_insert = (\"\"\"\n",
    "    INSERT INTO accountsdata(\n",
    "        country_name ,\n",
    "        country_code ,\n",
    "        indicator_name ,\n",
    "        series_code ,\n",
    "        year_1995 ,\n",
    "        year_1996 ,\n",
    "        year_1997 \n",
    "    )\n",
    "    VALUES(%s,%s,%s,%s,%s,%s,%s)\n",
    "\"\"\")"
   ]
  },
  {
   "cell_type": "code",
   "execution_count": 94,
   "id": "28603e22",
   "metadata": {},
   "outputs": [],
   "source": [
    "for i, row in AccountData_clean.iterrows():\n",
    "    cur.execute(AccountData_insert, list(row))\n",
    "conn.commit()"
   ]
  },
  {
   "cell_type": "code",
   "execution_count": 88,
   "id": "26e86aea",
   "metadata": {},
   "outputs": [],
   "source": [
    "AccountSeries_insert = (\"\"\"\n",
    "    INSERT INTO accountsseries(\n",
    "        series_code ,\n",
    "        topic ,\n",
    "        indicator_name \n",
    "    )\n",
    "    VALUES(%s,%s,%s)\n",
    "\"\"\")"
   ]
  },
  {
   "cell_type": "code",
   "execution_count": 89,
   "id": "e55858dd",
   "metadata": {},
   "outputs": [],
   "source": [
    "for i, row in AccountSeries_clean.iterrows():\n",
    "    cur.execute(AccountSeries_insert, list(row))\n",
    "conn.commit()"
   ]
  },
  {
   "cell_type": "markdown",
   "id": "6da63aec",
   "metadata": {},
   "source": [
    "We can also use SQL Shell to check if the data is sucessfully inserted into tables. For example, using \"select * from accountscountry limit 5;\" to check the first 5 rows of accountscountry table."
   ]
  },
  {
   "cell_type": "code",
   "execution_count": 95,
   "id": "60f3f6eb",
   "metadata": {},
   "outputs": [],
   "source": [
    "conn.close()"
   ]
  },
  {
   "cell_type": "markdown",
   "id": "850e1840",
   "metadata": {},
   "source": [
    "Now, we have successfully created tables in psql. Then we can procceed to do data transformation in psql."
   ]
  }
 ],
 "metadata": {
  "kernelspec": {
   "display_name": "Python 3 (ipykernel)",
   "language": "python",
   "name": "python3"
  },
  "language_info": {
   "codemirror_mode": {
    "name": "ipython",
    "version": 3
   },
   "file_extension": ".py",
   "mimetype": "text/x-python",
   "name": "python",
   "nbconvert_exporter": "python",
   "pygments_lexer": "ipython3",
   "version": "3.11.4"
  }
 },
 "nbformat": 4,
 "nbformat_minor": 5
}
